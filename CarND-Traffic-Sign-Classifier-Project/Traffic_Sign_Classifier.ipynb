{
 "cells": [
  {
   "cell_type": "markdown",
   "metadata": {},
   "source": [
    "# Self-Driving Car Engineer Nanodegree\n",
    "\n",
    "## Deep Learning\n",
    "\n",
    "## Project: Build a Traffic Sign Recognition Classifier\n",
    "\n",
    "In this notebook, a template is provided for you to implement your functionality in stages, which is required to successfully complete this project. If additional code is required that cannot be included in the notebook, be sure that the Python code is successfully imported and included in your submission if necessary. \n",
    "\n",
    "> **Note**: Once you have completed all of the code implementations, you need to finalize your work by exporting the iPython Notebook as an HTML document. Before exporting the notebook to html, all of the code cells need to have been run so that reviewers can see the final implementation and output. You can then export the notebook by using the menu above and navigating to  \\n\",\n",
    "    \"**File -> Download as -> HTML (.html)**. Include the finished document along with this notebook as your submission. \n",
    "\n",
    "In addition to implementing code, there is a writeup to complete. The writeup should be completed in a separate file, which can be either a markdown file or a pdf document. There is a [write up template](https://github.com/udacity/CarND-Traffic-Sign-Classifier-Project/blob/master/writeup_template.md) that can be used to guide the writing process. Completing the code template and writeup template will cover all of the [rubric points](https://review.udacity.com/#!/rubrics/481/view) for this project.\n",
    "\n",
    "The [rubric](https://review.udacity.com/#!/rubrics/481/view) contains \"Stand Out Suggestions\" for enhancing the project beyond the minimum requirements. The stand out suggestions are optional. If you decide to pursue the \"stand out suggestions\", you can include the code in this Ipython notebook and also discuss the results in the writeup file.\n",
    "\n",
    "\n",
    ">**Note:** Code and Markdown cells can be executed using the **Shift + Enter** keyboard shortcut. In addition, Markdown cells can be edited by typically double-clicking the cell to enter edit mode."
   ]
  },
  {
   "cell_type": "markdown",
   "metadata": {},
   "source": [
    "---\n",
    "## Step 0: Load The Data"
   ]
  },
  {
   "cell_type": "code",
   "execution_count": 1,
   "metadata": {
    "collapsed": true
   },
   "outputs": [],
   "source": [
    "# Load pickled data\n",
    "import pickle\n",
    "\n",
    "# TODO: Fill this in based on where you saved the training and testing data\n",
    "Folder_path = \"../../../dataset/traffic-signs-data/\"\n",
    "training_file = Folder_path + \"train.p\"\n",
    "validation_file= Folder_path + \"valid.p\"\n",
    "testing_file = Folder_path + \"test.p\"\n",
    "\n",
    "with open(training_file, mode='rb') as f:\n",
    "    train = pickle.load(f)\n",
    "with open(validation_file, mode='rb') as f:\n",
    "    valid = pickle.load(f)\n",
    "with open(testing_file, mode='rb') as f:\n",
    "    test = pickle.load(f)\n",
    "    \n",
    "X_train, y_train = train['features'], train['labels']\n",
    "X_valid, y_valid = valid['features'], valid['labels']\n",
    "X_test, y_test = test['features'], test['labels']"
   ]
  },
  {
   "cell_type": "markdown",
   "metadata": {},
   "source": [
    "---\n",
    "\n",
    "## Step 1: Dataset Summary & Exploration\n",
    "\n",
    "The pickled data is a dictionary with 4 key/value pairs:\n",
    "\n",
    "- `'features'` is a 4D array containing raw pixel data of the traffic sign images, (num examples, width, height, channels).\n",
    "- `'labels'` is a 1D array containing the label/class id of the traffic sign. The file `signnames.csv` contains id -> name mappings for each id.\n",
    "- `'sizes'` is a list containing tuples, (width, height) representing the original width and height the image.\n",
    "- `'coords'` is a list containing tuples, (x1, y1, x2, y2) representing coordinates of a bounding box around the sign in the image. **THESE COORDINATES ASSUME THE ORIGINAL IMAGE. THE PICKLED DATA CONTAINS RESIZED VERSIONS (32 by 32) OF THESE IMAGES**\n",
    "\n",
    "Complete the basic data summary below. Use python, numpy and/or pandas methods to calculate the data summary rather than hard coding the results. For example, the [pandas shape method](http://pandas.pydata.org/pandas-docs/stable/generated/pandas.DataFrame.shape.html) might be useful for calculating some of the summary results. "
   ]
  },
  {
   "cell_type": "markdown",
   "metadata": {},
   "source": [
    "### Provide a Basic Summary of the Data Set Using Python, Numpy and/or Pandas"
   ]
  },
  {
   "cell_type": "code",
   "execution_count": 2,
   "metadata": {},
   "outputs": [
    {
     "name": "stdout",
     "output_type": "stream",
     "text": [
      "Number of training examples = 34799\n",
      "Number of testing examples = 12630\n",
      "Image data shape = (32, 32, 3)\n",
      "Number of classes = 43\n"
     ]
    }
   ],
   "source": [
    "### Replace each question mark with the appropriate value. \n",
    "### Use python, pandas or numpy methods rather than hard coding the results\n",
    "import numpy as np\n",
    "\n",
    "# TODO: Number of training examples\n",
    "n_train = len(X_train)\n",
    "\n",
    "# TODO: Number of validation examples\n",
    "n_validation = len(X_valid)\n",
    "\n",
    "# TODO: Number of testing examples.\n",
    "n_test = len(X_test)\n",
    "\n",
    "# TODO: What's the shape of an traffic sign image?\n",
    "image_shape = X_train.shape[1:]\n",
    "\n",
    "# TODO: How many unique classes/labels there are in the dataset.\n",
    "n_classes = len(np.bincount(y_train))\n",
    "\n",
    "print(\"Number of training examples =\", n_train)\n",
    "print(\"Number of testing examples =\", n_test)\n",
    "print(\"Image data shape =\", image_shape)\n",
    "print(\"Number of classes =\", n_classes)"
   ]
  },
  {
   "cell_type": "markdown",
   "metadata": {},
   "source": [
    "### Include an exploratory visualization of the dataset"
   ]
  },
  {
   "cell_type": "markdown",
   "metadata": {},
   "source": [
    "Visualize the German Traffic Signs Dataset using the pickled file(s). This is open ended, suggestions include: plotting traffic sign images, plotting the count of each sign, etc. \n",
    "\n",
    "The [Matplotlib](http://matplotlib.org/) [examples](http://matplotlib.org/examples/index.html) and [gallery](http://matplotlib.org/gallery.html) pages are a great resource for doing visualizations in Python.\n",
    "\n",
    "**NOTE:** It's recommended you start with something simple first. If you wish to do more, come back to it after you've completed the rest of the sections. It can be interesting to look at the distribution of classes in the training, validation and test set. Is the distribution the same? Are there more examples of some classes than others?"
   ]
  },
  {
   "cell_type": "code",
   "execution_count": 3,
   "metadata": {},
   "outputs": [
    {
     "data": {
      "text/plain": [
       "<matplotlib.image.AxesImage at 0x7fe0bede9128>"
      ]
     },
     "execution_count": 3,
     "metadata": {},
     "output_type": "execute_result"
    },
    {
     "data": {
      "image/png": "[encoded data removed]",
      "text/plain": [
       "<matplotlib.figure.Figure at 0x7fe0fc124d68>"
      ]
     },
     "metadata": {},
     "output_type": "display_data"
    }
   ],
   "source": [
    "### Data exploration visualization code goes here.\n",
    "### Feel free to use as many code cells as needed.\n",
    "import matplotlib.pyplot as plt\n",
    "# Visualizations will be shown in the notebook.\n",
    "%matplotlib inline\n",
    "from random import randint\n",
    "\n",
    "r_num = randint(0,n_train)\n",
    "plt.figure(dpi=50)\n",
    "plt.imshow(X_train[r_num,:,:,:])"
   ]
  },
  {
   "cell_type": "markdown",
   "metadata": {},
   "source": [
    "----\n",
    "\n",
    "## Step 2: Design and Test a Model Architecture\n",
    "\n",
    "Design and implement a deep learning model that learns to recognize traffic signs. Train and test your model on the [German Traffic Sign Dataset](http://benchmark.ini.rub.de/?section=gtsrb&subsection=dataset).\n",
    "\n",
    "The LeNet-5 implementation shown in the [classroom](https://classroom.udacity.com/nanodegrees/nd013/parts/fbf77062-5703-404e-b60c-95b78b2f3f9e/modules/6df7ae49-c61c-4bb2-a23e-6527e69209ec/lessons/601ae704-1035-4287-8b11-e2c2716217ad/concepts/d4aca031-508f-4e0b-b493-e7b706120f81) at the end of the CNN lesson is a solid starting point. You'll have to change the number of classes and possibly the preprocessing, but aside from that it's plug and play! \n",
    "\n",
    "With the LeNet-5 solution from the lecture, you should expect a validation set accuracy of about 0.89. To meet specifications, the validation set accuracy will need to be at least 0.93. It is possible to get an even higher accuracy, but 0.93 is the minimum for a successful project submission. \n",
    "\n",
    "There are various aspects to consider when thinking about this problem:\n",
    "\n",
    "- Neural network architecture (is the network over or underfitting?)\n",
    "- Play around preprocessing techniques (normalization, rgb to grayscale, etc)\n",
    "- Number of examples per label (some have more than others).\n",
    "- Generate fake data.\n",
    "\n",
    "Here is an example of a [published baseline model on this problem](http://yann.lecun.com/exdb/publis/pdf/sermanet-ijcnn-11.pdf). It's not required to be familiar with the approach used in the paper but, it's good practice to try to read papers like these."
   ]
  },
  {
   "cell_type": "markdown",
   "metadata": {},
   "source": [
    "### Pre-process the Data Set (normalization, grayscale, etc.)"
   ]
  },
  {
   "cell_type": "markdown",
   "metadata": {},
   "source": [
    "Minimally, the image data should be normalized so that the data has mean zero and equal variance. For image data, `(pixel - 128)/ 128` is a quick way to approximately normalize the data and can be used in this project. \n",
    "\n",
    "Other pre-processing steps are optional. You can try different techniques to see if it improves performance. \n",
    "\n",
    "Use the code cell (or multiple code cells, if necessary) to implement the first step of your project."
   ]
  },
  {
   "cell_type": "code",
   "execution_count": 4,
   "metadata": {
    "collapsed": true
   },
   "outputs": [],
   "source": [
    "### Preprocess the data here. It is required to normalize the data. Other preprocessing steps could include \n",
    "### converting to grayscale, etc.\n",
    "### Feel free to use as many code cells as needed.\n",
    "from scipy import ndimage\n",
    "import random\n",
    "from skimage.transform import rotate\n",
    "from skimage.exposure import equalize_adapthist\n",
    "from skimage.color import rgb2gray"
   ]
  },
  {
   "cell_type": "code",
   "execution_count": 5,
   "metadata": {
    "collapsed": true
   },
   "outputs": [],
   "source": [
    "def gray_image(X):\n",
    "    Xf = np.empty(X[:,:,:,0].shape)\n",
    "    for i in range(X.shape[0]):\n",
    "        Xf[i] = rgb2gray(X[i])\n",
    "    return Xf"
   ]
  },
  {
   "cell_type": "code",
   "execution_count": 6,
   "metadata": {
    "collapsed": true
   },
   "outputs": [],
   "source": [
    "def exposure_image(X):\n",
    "    Xf = np.array(X)\n",
    "    for i in range(X.shape[0]):\n",
    "        Xf[i] = equalize_adapthist(X[i])\n",
    "    return Xf\n"
   ]
  },
  {
   "cell_type": "code",
   "execution_count": 7,
   "metadata": {
    "collapsed": true
   },
   "outputs": [],
   "source": [
    "def preprocess_image(X):\n",
    "    X = (X / 255.).astype(np.float32)\n",
    "        \n",
    "    #X = exposure_image(X)\n",
    "    X = equalize_adapthist(X)\n",
    "    \n",
    "    return X"
   ]
  },
  {
   "cell_type": "code",
   "execution_count": 8,
   "metadata": {
    "collapsed": true
   },
   "outputs": [],
   "source": [
    "def random_rotate(X,intensity):\n",
    "    Xf = np.array(X)\n",
    "    for i in range(X.shape[0]):\n",
    "        delta = 30. * intensity # scale using augmentation intensity\n",
    "        ran_delta = random.uniform(-delta, delta)\n",
    "        \n",
    "        Xf[i] = rotate(X[i], ran_delta, mode = 'constant', preserve_range=True)\n",
    "    return Xf"
   ]
  },
  {
   "cell_type": "code",
   "execution_count": 9,
   "metadata": {
    "collapsed": true
   },
   "outputs": [],
   "source": [
    "def random_flip(X):\n",
    "    ud_indices = random.sample(range(X.shape[0]), int(X.shape[0]/2))\n",
    "    lr_indices = random.sample(range(X.shape[0]), int(X.shape[0]/2))\n",
    "    Xf = np.array(X)\n",
    "    \n",
    "    Xf[ud_indices] = np.flipud(X[ud_indices])\n",
    "    Xf[lr_indices] = np.fliplr(Xf[lr_indices])\n",
    "    \n",
    "    return Xf"
   ]
  },
  {
   "cell_type": "code",
   "execution_count": 10,
   "metadata": {},
   "outputs": [
    {
     "data": {
      "text/plain": [
       "<matplotlib.image.AxesImage at 0x7fe0a8fee518>"
      ]
     },
     "execution_count": 10,
     "metadata": {},
     "output_type": "execute_result"
    },
    {
     "data": {
      "image/png": "[encoded data removed]",
      "text/plain": [
       "<matplotlib.figure.Figure at 0x7fe0a9025128>"
      ]
     },
     "metadata": {},
     "output_type": "display_data"
    }
   ],
   "source": [
    "#test\n",
    "xt = gray_image(X_train[0:5])\n",
    "plt.imshow(xt[4],cmap='gray')"
   ]
  },
  {
   "cell_type": "code",
   "execution_count": 11,
   "metadata": {},
   "outputs": [
    {
     "name": "stderr",
     "output_type": "stream",
     "text": [
      "/home/vmadmin/.local/lib/python3.5/site-packages/skimage/util/dtype.py:122: UserWarning: Possible precision loss when converting from float32 to uint16\n",
      "  .format(dtypeobj_in, dtypeobj_out))\n"
     ]
    }
   ],
   "source": [
    "#test\n",
    "xt, yt = X_train[0:5], y_train[0:5]\n",
    "xt = gray_image(xt)\n",
    "xt = random_rotate(xt,0.4)\n",
    "xt = random_flip(xt)\n",
    "for i,X in enumerate(xt):\n",
    "    xt[i] = preprocess_image(X)\n",
    "\n"
   ]
  },
  {
   "cell_type": "code",
   "execution_count": 12,
   "metadata": {},
   "outputs": [
    {
     "data": {
      "text/plain": [
       "(<matplotlib.axes._subplots.AxesSubplot at 0x7fe0a8d7dfd0>,\n",
       " <matplotlib.image.AxesImage at 0x7fe0a8c86f60>)"
      ]
     },
     "execution_count": 12,
     "metadata": {},
     "output_type": "execute_result"
    },
    {
     "data": {
      "image/png": "[encoded data removed]",
      "text/plain": [
       "<matplotlib.figure.Figure at 0x7fe0a8fb2240>"
      ]
     },
     "metadata": {},
     "output_type": "display_data"
    }
   ],
   "source": [
    "#test plot\n",
    "plt.figure(dpi=100)\n",
    "plt.subplot(2,5,1),plt.imshow(xt[0],cmap='gray')\n",
    "plt.subplot(2,5,2),plt.imshow(xt[1],cmap='gray')\n",
    "plt.subplot(2,5,3),plt.imshow(xt[2],cmap='gray')\n",
    "plt.subplot(2,5,4),plt.imshow(xt[3],cmap='gray')\n",
    "plt.subplot(2,5,5),plt.imshow(xt[4],cmap='gray')\n",
    "plt.subplot(2,5,6),plt.imshow(X_train[0])\n",
    "plt.subplot(2,5,7),plt.imshow(X_train[1])\n",
    "plt.subplot(2,5,8),plt.imshow(X_train[2])\n",
    "plt.subplot(2,5,9),plt.imshow(X_train[3])\n",
    "plt.subplot(2,5,10),plt.imshow(X_train[4])"
   ]
  },
  {
   "cell_type": "code",
   "execution_count": 13,
   "metadata": {},
   "outputs": [
    {
     "name": "stdout",
     "output_type": "stream",
     "text": [
      "Start to convert gray image\n"
     ]
    }
   ],
   "source": [
    "print(\"Start to convert gray image\")\n",
    "X_train = gray_image(X_train)\n",
    "X_valid = gray_image(X_valid)\n",
    "X_test = gray_image(X_test)"
   ]
  },
  {
   "cell_type": "code",
   "execution_count": 14,
   "metadata": {
    "collapsed": true
   },
   "outputs": [],
   "source": [
    "rt_X_train, rt_y_train = random_rotate(X_train,0.4), y_train\n",
    "fl_X_train, fl_y_train = random_flip(X_train), y_train"
   ]
  },
  {
   "cell_type": "code",
   "execution_count": 15,
   "metadata": {
    "collapsed": true
   },
   "outputs": [],
   "source": [
    "X_train = np.concatenate((X_train, rt_X_train, fl_X_train),axis=0)\n",
    "y_train = np.concatenate((y_train, rt_y_train, fl_y_train),axis=0)"
   ]
  },
  {
   "cell_type": "code",
   "execution_count": 16,
   "metadata": {},
   "outputs": [
    {
     "data": {
      "text/plain": [
       "((104397, 32, 32),\n",
       " (104397,),\n",
       " (4410, 32, 32),\n",
       " (4410,),\n",
       " (12630, 32, 32),\n",
       " (12630,))"
      ]
     },
     "execution_count": 16,
     "metadata": {},
     "output_type": "execute_result"
    }
   ],
   "source": [
    "X_train.shape, y_train.shape, X_valid.shape, y_valid.shape, X_test.shape, y_test.shape"
   ]
  },
  {
   "cell_type": "code",
   "execution_count": 17,
   "metadata": {
    "collapsed": true
   },
   "outputs": [],
   "source": [
    "from joblib import Parallel, delayed\n",
    "nprocs = 12"
   ]
  },
  {
   "cell_type": "code",
   "execution_count": 18,
   "metadata": {},
   "outputs": [
    {
     "name": "stderr",
     "output_type": "stream",
     "text": [
      "/home/vmadmin/.local/lib/python3.5/site-packages/skimage/util/dtype.py:122: UserWarning: Possible precision loss when converting from float32 to uint16\n",
      "  .format(dtypeobj_in, dtypeobj_out))\n",
      "/home/vmadmin/.local/lib/python3.5/site-packages/skimage/util/dtype.py:122: UserWarning: Possible precision loss when converting from float32 to uint16\n",
      "  .format(dtypeobj_in, dtypeobj_out))\n",
      "/home/vmadmin/.local/lib/python3.5/site-packages/skimage/util/dtype.py:122: UserWarning: Possible precision loss when converting from float32 to uint16\n",
      "  .format(dtypeobj_in, dtypeobj_out))\n",
      "/home/vmadmin/.local/lib/python3.5/site-packages/skimage/util/dtype.py:122: UserWarning: Possible precision loss when converting from float32 to uint16\n",
      "  .format(dtypeobj_in, dtypeobj_out))\n",
      "/home/vmadmin/.local/lib/python3.5/site-packages/skimage/util/dtype.py:122: UserWarning: Possible precision loss when converting from float32 to uint16\n",
      "  .format(dtypeobj_in, dtypeobj_out))\n",
      "/home/vmadmin/.local/lib/python3.5/site-packages/skimage/util/dtype.py:122: UserWarning: Possible precision loss when converting from float32 to uint16\n",
      "  .format(dtypeobj_in, dtypeobj_out))\n",
      "/home/vmadmin/.local/lib/python3.5/site-packages/skimage/util/dtype.py:122: UserWarning: Possible precision loss when converting from float32 to uint16\n",
      "  .format(dtypeobj_in, dtypeobj_out))\n",
      "/home/vmadmin/.local/lib/python3.5/site-packages/skimage/util/dtype.py:122: UserWarning: Possible precision loss when converting from float32 to uint16\n",
      "  .format(dtypeobj_in, dtypeobj_out))\n",
      "/home/vmadmin/.local/lib/python3.5/site-packages/skimage/util/dtype.py:122: UserWarning: Possible precision loss when converting from float32 to uint16\n",
      "  .format(dtypeobj_in, dtypeobj_out))\n",
      "/home/vmadmin/.local/lib/python3.5/site-packages/skimage/util/dtype.py:122: UserWarning: Possible precision loss when converting from float32 to uint16\n",
      "  .format(dtypeobj_in, dtypeobj_out))\n",
      "/home/vmadmin/.local/lib/python3.5/site-packages/skimage/util/dtype.py:122: UserWarning: Possible precision loss when converting from float32 to uint16\n",
      "  .format(dtypeobj_in, dtypeobj_out))\n",
      "/home/vmadmin/.local/lib/python3.5/site-packages/skimage/util/dtype.py:122: UserWarning: Possible precision loss when converting from float32 to uint16\n",
      "  .format(dtypeobj_in, dtypeobj_out))\n"
     ]
    }
   ],
   "source": [
    "X_train = Parallel(n_jobs=nprocs)(delayed(preprocess_image)(imfile) for imfile in X_train)"
   ]
  },
  {
   "cell_type": "code",
   "execution_count": 20,
   "metadata": {},
   "outputs": [
    {
     "name": "stderr",
     "output_type": "stream",
     "text": [
      "Using TensorFlow backend.\n"
     ]
    }
   ],
   "source": [
    "from keras.utils import to_categorical\n",
    "y_train = to_categorical(y_train, num_classes=n_classes)\n",
    "y_valid = to_categorical(y_valid, num_classes=n_classes)\n",
    "y_test = to_categorical(y_test, num_classes=n_classes)"
   ]
  },
  {
   "cell_type": "code",
   "execution_count": 21,
   "metadata": {},
   "outputs": [
    {
     "name": "stdout",
     "output_type": "stream",
     "text": [
      "Saving preprocessed Train images\n",
      "Saving Done\n"
     ]
    }
   ],
   "source": [
    "print(\"Saving preprocessed Train images\")\n",
    "np.save(Folder_path + \"TrainX.npy\", X_train)\n",
    "np.save(Folder_path + \"Trainy.npy\", y_train)\n",
    "np.save(Folder_path + \"ValidX.npy\", X_valid)\n",
    "np.save(Folder_path + \"Validy.npy\", y_valid)\n",
    "np.save(Folder_path + \"TestX.npy\", X_test)\n",
    "np.save(Folder_path + \"Testy.npy\", y_test)\n",
    "print(\"Saving Done\")"
   ]
  },
  {
   "cell_type": "markdown",
   "metadata": {},
   "source": [
    "### Model Architecture"
   ]
  },
  {
   "cell_type": "code",
   "execution_count": 22,
   "metadata": {
    "collapsed": true
   },
   "outputs": [],
   "source": [
    "### Define your architecture here.\n",
    "### Feel free to use as many code cells as needed.\n",
    "from keras.models import Model\n",
    "from keras.layers import Input, Conv2D, MaxPooling2D\n",
    "from keras.layers import Dense, Dropout, Flatten\n",
    "from keras.optimizers import SGD\n",
    "from keras.layers.normalization import BatchNormalization"
   ]
  },
  {
   "cell_type": "code",
   "execution_count": 23,
   "metadata": {
    "collapsed": true
   },
   "outputs": [],
   "source": [
    "from keras.callbacks import ModelCheckpoint, EarlyStopping, TensorBoard\n",
    "from keras.utils import to_categorical\n",
    "from keras import backend as K"
   ]
  },
  {
   "cell_type": "code",
   "execution_count": 24,
   "metadata": {
    "collapsed": true
   },
   "outputs": [],
   "source": [
    "#Refer from : https://github.com/kuza55/keras-extras/blob/master/utils/multi_gpu.py\n",
    "#Multi gpu support\n",
    "from keras.layers import merge\n",
    "from keras.layers.core import Lambda\n",
    "from keras.models import Model\n",
    "\n",
    "import tensorflow as tf\n",
    "\n",
    "def make_parallel(model, gpu_count):\n",
    "    def get_slice(data, idx, parts):\n",
    "        shape = tf.shape(data)\n",
    "        size = tf.concat([ shape[:1] // parts, shape[1:] ],axis=0)\n",
    "        stride = tf.concat([ shape[:1] // parts, shape[1:]*0 ],axis=0)\n",
    "        start = stride * idx\n",
    "        return tf.slice(data, start, size)\n",
    "\n",
    "    outputs_all = []\n",
    "    for i in range(len(model.outputs)):\n",
    "        outputs_all.append([])\n",
    "\n",
    "    #Place a copy of the model on each GPU, each getting a slice of the batch\n",
    "    for i in range(gpu_count):\n",
    "        with tf.device('/gpu:%d' % i):\n",
    "            with tf.name_scope('tower_%d' % i) as scope:\n",
    "\n",
    "                inputs = []\n",
    "                #Slice each input into a piece for processing on this GPU\n",
    "                for x in model.inputs:\n",
    "                    input_shape = tuple(x.get_shape().as_list())[1:]\n",
    "                    slice_n = Lambda(get_slice, output_shape=input_shape, arguments={'idx':i,'parts':gpu_count})(x)\n",
    "                    inputs.append(slice_n)                \n",
    "\n",
    "                outputs = model(inputs)\n",
    "                \n",
    "                if not isinstance(outputs, list):\n",
    "                    outputs = [outputs]\n",
    "                \n",
    "                #Save all the outputs for merging back together later\n",
    "                for l in range(len(outputs)):\n",
    "                    outputs_all[l].append(outputs[l])\n",
    "\n",
    "    # merge outputs on CPU\n",
    "    with tf.device('/cpu:0'):\n",
    "        merged = []\n",
    "        for outputs in outputs_all:\n",
    "            merged.append(merge(outputs, mode='concat', concat_axis=0))\n",
    "            \n",
    "        return Model(inputs=model.inputs, outputs=merged)"
   ]
  },
  {
   "cell_type": "code",
   "execution_count": 25,
   "metadata": {
    "collapsed": true
   },
   "outputs": [],
   "source": [
    "#Model configurations\n",
    "img_width = 32\n",
    "img_height = 32\n",
    "n_classes = 43\n",
    "\n",
    "f_size = 3\n",
    "learning_rate = 1e-2\n",
    "activation = 'elu'"
   ]
  },
  {
   "cell_type": "code",
   "execution_count": 42,
   "metadata": {
    "collapsed": true
   },
   "outputs": [],
   "source": [
    "def build_model():\n",
    "    inputs = Input((img_width, img_height, 1))\n",
    "    conv1 = Conv2D(32,(f_size, f_size), activation=activation, padding='same')(inputs)\n",
    "    conv1 = Conv2D(32,(f_size, f_size), activation=activation, padding='same')(conv1)\n",
    "    conv1 = BatchNormalization()(conv1)\n",
    "    pool1 = MaxPooling2D(pool_size=(2,2))(conv1)\n",
    "    \n",
    "    conv2 = Conv2D(64,(f_size, f_size), activation=activation, padding='same')(pool1)\n",
    "    conv2 = Conv2D(64,(f_size, f_size), activation=activation, padding='same')(conv2)\n",
    "    conv2 = BatchNormalization()(conv2)\n",
    "    pool2 = MaxPooling2D(pool_size=(2,2))(conv2)\n",
    "    \n",
    "    conv3 = Conv2D(128,(f_size, f_size), activation=activation, padding='same')(pool2)\n",
    "    conv3 = Conv2D(128,(f_size, f_size), activation=activation, padding='same')(conv3)\n",
    "    conv3 = BatchNormalization()(conv3)\n",
    "    pool3 = MaxPooling2D(pool_size=(2,2))(conv3)\n",
    "    \n",
    "    fcn1 = Flatten()(pool3)\n",
    "    fcn1 = Dense(256, activation=activation)(fcn1)\n",
    "    fcn1 = Dropout(0.5)(fcn1)\n",
    "    \n",
    "    fcn2 = Dense(128, activation=activation)(fcn1)\n",
    "    fcn2 = Dropout(0.5)(fcn2)\n",
    "    \n",
    "    softmax1 = Dense(n_classes, activation='softmax')(fcn2)\n",
    "    \n",
    "    model = Model(inputs=inputs, outputs=softmax1)\n",
    "    model.summary()\n",
    "    #model = make_parallel(model,2)\n",
    "    \n",
    "    sgd = SGD(lr=learning_rate, decay=1e-6, momentum=0.9, nesterov=True)\n",
    "    model.compile(loss='categorical_crossentropy', optimizer=sgd)\n",
    "\n",
    "    return model\n",
    "    "
   ]
  },
  {
   "cell_type": "code",
   "execution_count": 43,
   "metadata": {},
   "outputs": [
    {
     "name": "stdout",
     "output_type": "stream",
     "text": [
      "_________________________________________________________________\n",
      "Layer (type)                 Output Shape              Param #   \n",
      "=================================================================\n",
      "input_2 (InputLayer)         (None, 32, 32, 1)         0         \n",
      "_________________________________________________________________\n",
      "conv2d_7 (Conv2D)            (None, 32, 32, 32)        320       \n",
      "_________________________________________________________________\n",
      "conv2d_8 (Conv2D)            (None, 32, 32, 32)        9248      \n",
      "_________________________________________________________________\n",
      "batch_normalization_4 (Batch (None, 32, 32, 32)        128       \n",
      "_________________________________________________________________\n",
      "max_pooling2d_4 (MaxPooling2 (None, 16, 16, 32)        0         \n",
      "_________________________________________________________________\n",
      "conv2d_9 (Conv2D)            (None, 16, 16, 64)        18496     \n",
      "_________________________________________________________________\n",
      "conv2d_10 (Conv2D)           (None, 16, 16, 64)        36928     \n",
      "_________________________________________________________________\n",
      "batch_normalization_5 (Batch (None, 16, 16, 64)        256       \n",
      "_________________________________________________________________\n",
      "max_pooling2d_5 (MaxPooling2 (None, 8, 8, 64)          0         \n",
      "_________________________________________________________________\n",
      "conv2d_11 (Conv2D)           (None, 8, 8, 128)         73856     \n",
      "_________________________________________________________________\n",
      "conv2d_12 (Conv2D)           (None, 8, 8, 128)         147584    \n",
      "_________________________________________________________________\n",
      "batch_normalization_6 (Batch (None, 8, 8, 128)         512       \n",
      "_________________________________________________________________\n",
      "max_pooling2d_6 (MaxPooling2 (None, 4, 4, 128)         0         \n",
      "_________________________________________________________________\n",
      "flatten_2 (Flatten)          (None, 2048)              0         \n",
      "_________________________________________________________________\n",
      "dense_4 (Dense)              (None, 256)               524544    \n",
      "_________________________________________________________________\n",
      "dropout_3 (Dropout)          (None, 256)               0         \n",
      "_________________________________________________________________\n",
      "dense_5 (Dense)              (None, 128)               32896     \n",
      "_________________________________________________________________\n",
      "dropout_4 (Dropout)          (None, 128)               0         \n",
      "_________________________________________________________________\n",
      "dense_6 (Dense)              (None, 43)                5547      \n",
      "=================================================================\n",
      "Total params: 850,315\n",
      "Trainable params: 849,867\n",
      "Non-trainable params: 448\n",
      "_________________________________________________________________\n"
     ]
    }
   ],
   "source": [
    "model = build_model()\n",
    "model_checkpoint = ModelCheckpoint('model_TSR.hdf5', monitor='loss', save_best_only=True)\n",
    "model_earlystopping = EarlyStopping(monitor='loss')\n",
    "model_tensorboard = TensorBoard(log_dir='./logs', histogram_freq=0,\n",
    "                          write_graph=True, write_images=False)"
   ]
  },
  {
   "cell_type": "markdown",
   "metadata": {},
   "source": [
    "### Train, Validate and Test the Model"
   ]
  },
  {
   "cell_type": "markdown",
   "metadata": {},
   "source": [
    "A validation set can be used to assess how well the model is performing. A low accuracy on the training and validation\n",
    "sets imply underfitting. A high accuracy on the training set but low accuracy on the validation set implies overfitting."
   ]
  },
  {
   "cell_type": "code",
   "execution_count": 44,
   "metadata": {
    "collapsed": true
   },
   "outputs": [],
   "source": [
    "### Train your model here.\n",
    "### Calculate and report the accuracy on the training and validation set.\n",
    "### Once a final model architecture is selected, \n",
    "### the accuracy on the test set should be calculated and reported as well.\n",
    "### Feel free to use as many code cells as needed."
   ]
  },
  {
   "cell_type": "code",
   "execution_count": 45,
   "metadata": {
    "collapsed": true
   },
   "outputs": [],
   "source": [
    "def load_train_data(dir_path = \"../../../dataset/traffic-signs-data/\"):\n",
    "    Xtrain = np.load(dir_path + 'TrainX.npy')\n",
    "    ytrain = np.load(dir_path + 'Trainy.npy')\n",
    "    \n",
    "    Xtrain = np.expand_dims(Xtrain, -1)\n",
    "    \n",
    "    return Xtrain, ytrain\n"
   ]
  },
  {
   "cell_type": "code",
   "execution_count": 46,
   "metadata": {
    "collapsed": true
   },
   "outputs": [],
   "source": [
    "def load_valid_data(dir_path = \"../../../dataset/traffic-signs-data/\"):\n",
    "    Xvalid = np.load(dir_path + \"ValidX.npy\")\n",
    "    yvalid = np.load(dir_path + \"Validy.npy\")\n",
    "    \n",
    "    Xvalid = np.expand_dims(Xvalid, -1)\n",
    "    return Xvalid, yvalid"
   ]
  },
  {
   "cell_type": "code",
   "execution_count": 47,
   "metadata": {
    "collapsed": true
   },
   "outputs": [],
   "source": [
    "def load_test_data(dir_path = \"../../../dataset/traffic-signs-data/\"):\n",
    "    Xtest = np.load(dir_path + \"TestX.npy\")\n",
    "    ytest = np.load(dir_path + \"Testy.npy\")\n",
    "    \n",
    "    Xtest = np.expand_dims(Xtest, -1)\n",
    "    return Xtest, ytest"
   ]
  },
  {
   "cell_type": "code",
   "execution_count": 48,
   "metadata": {},
   "outputs": [],
   "source": [
    "X_train, y_train = load_train_data(Folder_path)\n",
    "X_valid, y_valid = load_valid_data(Folder_path)\n",
    "X_test, y_test = load_test_data(Folder_path)"
   ]
  },
  {
   "cell_type": "code",
   "execution_count": 49,
   "metadata": {},
   "outputs": [
    {
     "data": {
      "text/plain": [
       "((104397, 32, 32, 1), (4410, 32, 32, 1), (12630, 32, 32, 1))"
      ]
     },
     "execution_count": 49,
     "metadata": {},
     "output_type": "execute_result"
    }
   ],
   "source": [
    "X_train.shape, X_valid.shape, X_test.shape"
   ]
  },
  {
   "cell_type": "code",
   "execution_count": 50,
   "metadata": {},
   "outputs": [
    {
     "data": {
      "text/plain": [
       "((104397, 43), (4410, 43), (12630, 43))"
      ]
     },
     "execution_count": 50,
     "metadata": {},
     "output_type": "execute_result"
    }
   ],
   "source": [
    "y_train.shape, y_valid.shape, y_test.shape"
   ]
  },
  {
   "cell_type": "code",
   "execution_count": 51,
   "metadata": {
    "scrolled": false
   },
   "outputs": [
    {
     "name": "stdout",
     "output_type": "stream",
     "text": [
      "Train on 104397 samples, validate on 4410 samples\n",
      "Epoch 1/100\n",
      "104397/104397 [==============================] - 54s - loss: 2.3214 - val_loss: 6.9582\n",
      "Epoch 2/100\n",
      "104397/104397 [==============================] - 56s - loss: 1.5035 - val_loss: 4.4458\n",
      "Epoch 3/100\n",
      "104397/104397 [==============================] - 57s - loss: 1.3329 - val_loss: 2.4333\n",
      "Epoch 4/100\n",
      "104397/104397 [==============================] - 55s - loss: 1.2496 - val_loss: 2.1730\n",
      "Epoch 5/100\n",
      "104397/104397 [==============================] - 47s - loss: 1.1962 - val_loss: 2.0028\n",
      "Epoch 6/100\n",
      "104397/104397 [==============================] - 46s - loss: 1.1520 - val_loss: 2.0119\n",
      "Epoch 7/100\n",
      "104397/104397 [==============================] - 47s - loss: 1.1247 - val_loss: 1.7178\n",
      "Epoch 8/100\n",
      "104397/104397 [==============================] - 46s - loss: 1.0986 - val_loss: 1.8019\n",
      "Epoch 9/100\n",
      "104397/104397 [==============================] - 47s - loss: 1.0769 - val_loss: 1.8602\n",
      "Epoch 10/100\n",
      "104397/104397 [==============================] - 46s - loss: 1.0577 - val_loss: 1.6328\n",
      "Epoch 11/100\n",
      "104397/104397 [==============================] - 47s - loss: 1.0379 - val_loss: 1.8101\n",
      "Epoch 12/100\n",
      "104397/104397 [==============================] - 46s - loss: 1.0210 - val_loss: 1.6958\n",
      "Epoch 13/100\n",
      "104397/104397 [==============================] - 46s - loss: 1.0085 - val_loss: 1.7652\n",
      "Epoch 14/100\n",
      "104397/104397 [==============================] - 47s - loss: 0.9933 - val_loss: 1.6400\n",
      "Epoch 15/100\n",
      "104397/104397 [==============================] - 47s - loss: 0.9783 - val_loss: 1.6428\n",
      "Epoch 16/100\n",
      "104397/104397 [==============================] - 47s - loss: 0.9660 - val_loss: 1.5422\n",
      "Epoch 17/100\n",
      "104397/104397 [==============================] - 47s - loss: 0.9558 - val_loss: 1.7720\n",
      "Epoch 18/100\n",
      "104397/104397 [==============================] - 47s - loss: 0.9411 - val_loss: 1.7588\n",
      "Epoch 19/100\n",
      "104397/104397 [==============================] - 46s - loss: 0.9291 - val_loss: 1.4608\n",
      "Epoch 20/100\n",
      "104397/104397 [==============================] - 47s - loss: 0.9167 - val_loss: 1.6530\n",
      "Epoch 21/100\n",
      "104397/104397 [==============================] - 46s - loss: 0.9059 - val_loss: 1.6871\n",
      "Epoch 22/100\n",
      "104397/104397 [==============================] - 47s - loss: 0.8889 - val_loss: 1.7145\n",
      "Epoch 23/100\n",
      "104397/104397 [==============================] - 47s - loss: 0.8809 - val_loss: 1.5666\n",
      "Epoch 24/100\n",
      "104397/104397 [==============================] - 47s - loss: 0.8668 - val_loss: 1.5875\n",
      "Epoch 25/100\n",
      "104397/104397 [==============================] - 47s - loss: 0.8540 - val_loss: 1.7656\n",
      "Epoch 26/100\n",
      "104397/104397 [==============================] - 47s - loss: 0.8409 - val_loss: 1.6074\n",
      "Epoch 27/100\n",
      "104397/104397 [==============================] - 46s - loss: 0.8340 - val_loss: 1.5822\n",
      "Epoch 28/100\n",
      "104397/104397 [==============================] - 47s - loss: 0.8209 - val_loss: 1.6469\n",
      "Epoch 29/100\n",
      "104397/104397 [==============================] - 47s - loss: 0.8042 - val_loss: 1.5502\n",
      "Epoch 30/100\n",
      "104397/104397 [==============================] - 46s - loss: 0.7931 - val_loss: 1.6183\n",
      "Epoch 31/100\n",
      "104397/104397 [==============================] - 47s - loss: 0.7780 - val_loss: 1.6214\n",
      "Epoch 32/100\n",
      "104397/104397 [==============================] - 46s - loss: 0.7672 - val_loss: 1.5534\n",
      "Epoch 33/100\n",
      "104397/104397 [==============================] - 47s - loss: 0.7558 - val_loss: 1.6545\n",
      "Epoch 34/100\n",
      "104397/104397 [==============================] - 46s - loss: 0.7399 - val_loss: 1.6774\n",
      "Epoch 35/100\n",
      "104397/104397 [==============================] - 47s - loss: 0.7300 - val_loss: 1.7710\n",
      "Epoch 36/100\n",
      "104397/104397 [==============================] - 46s - loss: 0.7151 - val_loss: 1.6620\n",
      "Epoch 37/100\n",
      "104397/104397 [==============================] - 47s - loss: 0.7066 - val_loss: 1.6004\n",
      "Epoch 38/100\n",
      "104397/104397 [==============================] - 47s - loss: 0.6924 - val_loss: 1.7325\n",
      "Epoch 39/100\n",
      "104397/104397 [==============================] - 46s - loss: 0.6801 - val_loss: 1.5218\n",
      "Epoch 40/100\n",
      "104397/104397 [==============================] - 47s - loss: 0.6668 - val_loss: 1.6213\n",
      "Epoch 41/100\n",
      "104397/104397 [==============================] - 47s - loss: 0.6589 - val_loss: 1.6649\n",
      "Epoch 42/100\n",
      "104397/104397 [==============================] - 46s - loss: 0.6471 - val_loss: 1.6300\n",
      "Epoch 43/100\n",
      "104397/104397 [==============================] - 46s - loss: 0.6376 - val_loss: 1.3926\n",
      "Epoch 44/100\n",
      "104397/104397 [==============================] - 46s - loss: 0.6259 - val_loss: 1.6984\n",
      "Epoch 45/100\n",
      "104397/104397 [==============================] - 46s - loss: 0.6154 - val_loss: 1.7859\n",
      "Epoch 46/100\n",
      "104397/104397 [==============================] - 47s - loss: 0.6036 - val_loss: 2.1036\n",
      "Epoch 47/100\n",
      "104397/104397 [==============================] - 46s - loss: 0.5949 - val_loss: 1.9462\n",
      "Epoch 48/100\n",
      "104397/104397 [==============================] - 47s - loss: 0.5842 - val_loss: 1.7291\n",
      "Epoch 49/100\n",
      "104397/104397 [==============================] - 46s - loss: 0.5722 - val_loss: 1.9626\n",
      "Epoch 50/100\n",
      "104397/104397 [==============================] - 47s - loss: 0.5668 - val_loss: 2.1469\n",
      "Epoch 51/100\n",
      "104397/104397 [==============================] - 47s - loss: 0.5576 - val_loss: 1.5478\n",
      "Epoch 52/100\n",
      "104397/104397 [==============================] - 46s - loss: 0.5477 - val_loss: 1.8294\n",
      "Epoch 53/100\n",
      "104397/104397 [==============================] - 47s - loss: 0.5416 - val_loss: 1.8714\n",
      "Epoch 54/100\n",
      "104397/104397 [==============================] - 47s - loss: 0.5283 - val_loss: 1.5511\n",
      "Epoch 55/100\n",
      "104397/104397 [==============================] - 47s - loss: 0.5213 - val_loss: 2.1758\n",
      "Epoch 56/100\n",
      "104397/104397 [==============================] - 47s - loss: 0.5161 - val_loss: 1.7667\n",
      "Epoch 57/100\n",
      "104397/104397 [==============================] - 46s - loss: 0.5068 - val_loss: 1.8442\n",
      "Epoch 58/100\n",
      "104397/104397 [==============================] - 46s - loss: 0.4957 - val_loss: 1.7626\n",
      "Epoch 59/100\n",
      "104397/104397 [==============================] - 47s - loss: 0.4902 - val_loss: 2.0911\n",
      "Epoch 60/100\n",
      "104397/104397 [==============================] - 47s - loss: 0.4852 - val_loss: 1.7816\n",
      "Epoch 61/100\n",
      "104397/104397 [==============================] - 47s - loss: 0.4798 - val_loss: 1.9648\n",
      "Epoch 62/100\n",
      "104397/104397 [==============================] - 47s - loss: 0.4717 - val_loss: 1.7303\n",
      "Epoch 63/100\n",
      "104397/104397 [==============================] - 46s - loss: 0.4657 - val_loss: 1.9452\n",
      "Epoch 64/100\n",
      "104397/104397 [==============================] - 46s - loss: 0.4604 - val_loss: 2.0198\n",
      "Epoch 65/100\n",
      "104397/104397 [==============================] - 46s - loss: 0.4534 - val_loss: 2.0755\n",
      "Epoch 66/100\n",
      "104397/104397 [==============================] - 47s - loss: 0.4456 - val_loss: 2.1135\n",
      "Epoch 67/100\n",
      "104397/104397 [==============================] - 47s - loss: 0.4455 - val_loss: 2.0232\n",
      "Epoch 68/100\n",
      "104397/104397 [==============================] - 47s - loss: 0.4368 - val_loss: 1.8896\n",
      "Epoch 69/100\n",
      "104397/104397 [==============================] - 47s - loss: 0.4327 - val_loss: 1.9302\n",
      "Epoch 70/100\n",
      "104397/104397 [==============================] - 47s - loss: 0.4282 - val_loss: 2.3687\n",
      "Epoch 71/100\n",
      "104397/104397 [==============================] - 47s - loss: 0.4233 - val_loss: 2.4931\n",
      "Epoch 72/100\n",
      "104397/104397 [==============================] - 47s - loss: 0.4183 - val_loss: 2.3489\n",
      "Epoch 73/100\n",
      "104397/104397 [==============================] - 47s - loss: 0.4111 - val_loss: 1.8998\n",
      "Epoch 74/100\n",
      "104397/104397 [==============================] - 46s - loss: 0.4064 - val_loss: 2.4898\n",
      "Epoch 75/100\n",
      "104397/104397 [==============================] - 46s - loss: 0.4031 - val_loss: 2.3263\n",
      "Epoch 76/100\n",
      "104397/104397 [==============================] - 46s - loss: 0.3972 - val_loss: 2.3448\n",
      "Epoch 77/100\n",
      "104397/104397 [==============================] - 46s - loss: 0.3983 - val_loss: 2.6163\n"
     ]
    },
    {
     "data": {
      "text/plain": [
       "<keras.callbacks.History at 0x7fe013fe5320>"
      ]
     },
     "execution_count": 51,
     "metadata": {},
     "output_type": "execute_result"
    }
   ],
   "source": [
    "# Train model\n",
    "model.fit(X_train, y_train, batch_size=256*2, epochs=100, verbose=1, shuffle=True,\n",
    "         validation_data=(X_valid, y_valid),\n",
    "          callbacks=[model_checkpoint, model_earlystopping, model_tensorboard])"
   ]
  },
  {
   "cell_type": "markdown",
   "metadata": {},
   "source": [
    "---\n",
    "\n",
    "## Step 3: Test a Model on New Images\n",
    "\n",
    "To give yourself more insight into how your model is working, download at least five pictures of German traffic signs from the web and use your model to predict the traffic sign type.\n",
    "\n",
    "You may find `signnames.csv` useful as it contains mappings from the class id (integer) to the actual sign name."
   ]
  },
  {
   "cell_type": "markdown",
   "metadata": {},
   "source": [
    "### Load and Output the Images"
   ]
  },
  {
   "cell_type": "code",
   "execution_count": null,
   "metadata": {
    "collapsed": true
   },
   "outputs": [],
   "source": [
    "### Load the images and plot them here.\n",
    "### Feel free to use as many code cells as needed."
   ]
  },
  {
   "cell_type": "markdown",
   "metadata": {},
   "source": [
    "### Predict the Sign Type for Each Image"
   ]
  },
  {
   "cell_type": "code",
   "execution_count": null,
   "metadata": {
    "collapsed": true
   },
   "outputs": [],
   "source": [
    "### Run the predictions here and use the model to output the prediction for each image.\n",
    "### Make sure to pre-process the images with the same pre-processing pipeline used earlier.\n",
    "### Feel free to use as many code cells as needed."
   ]
  },
  {
   "cell_type": "markdown",
   "metadata": {},
   "source": [
    "### Analyze Performance"
   ]
  },
  {
   "cell_type": "code",
   "execution_count": null,
   "metadata": {
    "collapsed": true
   },
   "outputs": [],
   "source": [
    "### Calculate the accuracy for these 5 new images. \n",
    "### For example, if the model predicted 1 out of 5 signs correctly, it's 20% accurate on these new images."
   ]
  },
  {
   "cell_type": "markdown",
   "metadata": {},
   "source": [
    "### Output Top 5 Softmax Probabilities For Each Image Found on the Web"
   ]
  },
  {
   "cell_type": "markdown",
   "metadata": {},
   "source": [
    "For each of the new images, print out the model's softmax probabilities to show the **certainty** of the model's predictions (limit the output to the top 5 probabilities for each image). [`tf.nn.top_k`](https://www.tensorflow.org/versions/r0.12/api_docs/python/nn.html#top_k) could prove helpful here. \n",
    "\n",
    "The example below demonstrates how tf.nn.top_k can be used to find the top k predictions for each image.\n",
    "\n",
    "`tf.nn.top_k` will return the values and indices (class ids) of the top k predictions. So if k=3, for each sign, it'll return the 3 largest probabilities (out of a possible 43) and the correspoding class ids.\n",
    "\n",
    "Take this numpy array as an example. The values in the array represent predictions. The array contains softmax probabilities for five candidate images with six possible classes. `tf.nn.top_k` is used to choose the three classes with the highest probability:\n",
    "\n",
    "```\n",
    "# (5, 6) array\n",
    "a = np.array([[ 0.24879643,  0.07032244,  0.12641572,  0.34763842,  0.07893497,\n",
    "         0.12789202],\n",
    "       [ 0.28086119,  0.27569815,  0.08594638,  0.0178669 ,  0.18063401,\n",
    "         0.15899337],\n",
    "       [ 0.26076848,  0.23664738,  0.08020603,  0.07001922,  0.1134371 ,\n",
    "         0.23892179],\n",
    "       [ 0.11943333,  0.29198961,  0.02605103,  0.26234032,  0.1351348 ,\n",
    "         0.16505091],\n",
    "       [ 0.09561176,  0.34396535,  0.0643941 ,  0.16240774,  0.24206137,\n",
    "         0.09155967]])\n",
    "```\n",
    "\n",
    "Running it through `sess.run(tf.nn.top_k(tf.constant(a), k=3))` produces:\n",
    "\n",
    "```\n",
    "TopKV2(values=array([[ 0.34763842,  0.24879643,  0.12789202],\n",
    "       [ 0.28086119,  0.27569815,  0.18063401],\n",
    "       [ 0.26076848,  0.23892179,  0.23664738],\n",
    "       [ 0.29198961,  0.26234032,  0.16505091],\n",
    "       [ 0.34396535,  0.24206137,  0.16240774]]), indices=array([[3, 0, 5],\n",
    "       [0, 1, 4],\n",
    "       [0, 5, 1],\n",
    "       [1, 3, 5],\n",
    "       [1, 4, 3]], dtype=int32))\n",
    "```\n",
    "\n",
    "Looking just at the first row we get `[ 0.34763842,  0.24879643,  0.12789202]`, you can confirm these are the 3 largest probabilities in `a`. You'll also notice `[3, 0, 5]` are the corresponding indices."
   ]
  },
  {
   "cell_type": "code",
   "execution_count": null,
   "metadata": {
    "collapsed": true
   },
   "outputs": [],
   "source": [
    "### Print out the top five softmax probabilities for the predictions on the German traffic sign images found on the web. \n",
    "### Feel free to use as many code cells as needed."
   ]
  },
  {
   "cell_type": "markdown",
   "metadata": {},
   "source": [
    "### Project Writeup\n",
    "\n",
    "Once you have completed the code implementation, document your results in a project writeup using this [template](https://github.com/udacity/CarND-Traffic-Sign-Classifier-Project/blob/master/writeup_template.md) as a guide. The writeup can be in a markdown or pdf file. "
   ]
  },
  {
   "cell_type": "markdown",
   "metadata": {},
   "source": [
    "> **Note**: Once you have completed all of the code implementations and successfully answered each question above, you may finalize your work by exporting the iPython Notebook as an HTML document. You can do this by using the menu above and navigating to  \\n\",\n",
    "    \"**File -> Download as -> HTML (.html)**. Include the finished document along with this notebook as your submission."
   ]
  },
  {
   "cell_type": "markdown",
   "metadata": {},
   "source": [
    "---\n",
    "\n",
    "## Step 4 (Optional): Visualize the Neural Network's State with Test Images\n",
    "\n",
    " This Section is not required to complete but acts as an additional excersise for understaning the output of a neural network's weights. While neural networks can be a great learning device they are often referred to as a black box. We can understand what the weights of a neural network look like better by plotting their feature maps. After successfully training your neural network you can see what it's feature maps look like by plotting the output of the network's weight layers in response to a test stimuli image. From these plotted feature maps, it's possible to see what characteristics of an image the network finds interesting. For a sign, maybe the inner network feature maps react with high activation to the sign's boundary outline or to the contrast in the sign's painted symbol.\n",
    "\n",
    " Provided for you below is the function code that allows you to get the visualization output of any tensorflow weight layer you want. The inputs to the function should be a stimuli image, one used during training or a new one you provided, and then the tensorflow variable name that represents the layer's state during the training process, for instance if you wanted to see what the [LeNet lab's](https://classroom.udacity.com/nanodegrees/nd013/parts/fbf77062-5703-404e-b60c-95b78b2f3f9e/modules/6df7ae49-c61c-4bb2-a23e-6527e69209ec/lessons/601ae704-1035-4287-8b11-e2c2716217ad/concepts/d4aca031-508f-4e0b-b493-e7b706120f81) feature maps looked like for it's second convolutional layer you could enter conv2 as the tf_activation variable.\n",
    "\n",
    "For an example of what feature map outputs look like, check out NVIDIA's results in their paper [End-to-End Deep Learning for Self-Driving Cars](https://devblogs.nvidia.com/parallelforall/deep-learning-self-driving-cars/) in the section Visualization of internal CNN State. NVIDIA was able to show that their network's inner weights had high activations to road boundary lines by comparing feature maps from an image with a clear path to one without. Try experimenting with a similar test to show that your trained network's weights are looking for interesting features, whether it's looking at differences in feature maps from images with or without a sign, or even what feature maps look like in a trained network vs a completely untrained one on the same sign image.\n",
    "\n",
    "<figure>\n",
    " <img src=\"visualize_cnn.png\" width=\"380\" alt=\"Combined Image\" />\n",
    " <figcaption>\n",
    " <p></p> \n",
    " <p style=\"text-align: center;\"> Your output should look something like this (above)</p> \n",
    " </figcaption>\n",
    "</figure>\n",
    " <p></p> \n"
   ]
  },
  {
   "cell_type": "code",
   "execution_count": null,
   "metadata": {
    "collapsed": true
   },
   "outputs": [],
   "source": [
    "### Visualize your network's feature maps here.\n",
    "### Feel free to use as many code cells as needed.\n",
    "\n",
    "# image_input: the test image being fed into the network to produce the feature maps\n",
    "# tf_activation: should be a tf variable name used during your training procedure that represents the calculated state of a specific weight layer\n",
    "# activation_min/max: can be used to view the activation contrast in more detail, by default matplot sets min and max to the actual min and max values of the output\n",
    "# plt_num: used to plot out multiple different weight feature map sets on the same block, just extend the plt number for each new feature map entry\n",
    "\n",
    "def outputFeatureMap(image_input, tf_activation, activation_min=-1, activation_max=-1 ,plt_num=1):\n",
    "    # Here make sure to preprocess your image_input in a way your network expects\n",
    "    # with size, normalization, ect if needed\n",
    "    # image_input =\n",
    "    # Note: x should be the same name as your network's tensorflow data placeholder variable\n",
    "    # If you get an error tf_activation is not defined it may be having trouble accessing the variable from inside a function\n",
    "    activation = tf_activation.eval(session=sess,feed_dict={x : image_input})\n",
    "    featuremaps = activation.shape[3]\n",
    "    plt.figure(plt_num, figsize=(15,15))\n",
    "    for featuremap in range(featuremaps):\n",
    "        plt.subplot(6,8, featuremap+1) # sets the number of feature maps to show on each row and column\n",
    "        plt.title('FeatureMap ' + str(featuremap)) # displays the feature map number\n",
    "        if activation_min != -1 & activation_max != -1:\n",
    "            plt.imshow(activation[0,:,:, featuremap], interpolation=\"nearest\", vmin =activation_min, vmax=activation_max, cmap=\"gray\")\n",
    "        elif activation_max != -1:\n",
    "            plt.imshow(activation[0,:,:, featuremap], interpolation=\"nearest\", vmax=activation_max, cmap=\"gray\")\n",
    "        elif activation_min !=-1:\n",
    "            plt.imshow(activation[0,:,:, featuremap], interpolation=\"nearest\", vmin=activation_min, cmap=\"gray\")\n",
    "        else:\n",
    "            plt.imshow(activation[0,:,:, featuremap], interpolation=\"nearest\", cmap=\"gray\")"
   ]
  }
 ],
 "metadata": {
  "anaconda-cloud": {},
  "kernelspec": {
   "display_name": "Python 3",
   "language": "python",
   "name": "python3"
  },
  "language_info": {
   "codemirror_mode": {
    "name": "ipython",
    "version": 3
   },
   "file_extension": ".py",
   "mimetype": "text/x-python",
   "name": "python",
   "nbconvert_exporter": "python",
   "pygments_lexer": "ipython3",
   "version": "3.5.2"
  }
 },
 "nbformat": 4,
 "nbformat_minor": 1
}
